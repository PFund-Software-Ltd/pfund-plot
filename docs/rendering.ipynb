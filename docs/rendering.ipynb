{
 "cells": [
  {
   "cell_type": "markdown",
   "metadata": {},
   "source": [
    "# Rendering"
   ]
  },
  {
   "cell_type": "markdown",
   "metadata": {},
   "source": [
    "`pfund-plot` still comes in handy if you just want to use its rendering capabilities.\n",
    "It supports rendering plots in:\n",
    "- jupyter notebook/lab\n",
    "- marimo notebook\n",
    "- browser\n",
    "- desktop window"
   ]
  },
  {
   "cell_type": "markdown",
   "metadata": {},
   "source": [
    "> natively `pfund-plot` only supports inputs created by `panel`, but there are ways to handle plots from other libraries such as `altair` and `plotly`"
   ]
  },
  {
   "cell_type": "code",
   "execution_count": 5,
   "metadata": {},
   "outputs": [],
   "source": [
    "from pfund_plot.renderer import render"
   ]
  },
  {
   "cell_type": "markdown",
   "metadata": {},
   "source": [
    "## Rendering `panel` plots in desktop window"
   ]
  },
  {
   "cell_type": "code",
   "execution_count": null,
   "metadata": {},
   "outputs": [],
   "source": [
    "import panel as pn\n",
    "\n",
    "py_code = \"import pfund_plot as plt\"\n",
    "editor = pn.widgets.CodeEditor(value=py_code, sizing_mode='stretch_width', language='python', height=300)\n",
    "\n",
    "# use pfund-plot to render the plot in a desktop window\n",
    "render(editor, display_mode='desktop')"
   ]
  },
  {
   "cell_type": "markdown",
   "metadata": {},
   "source": [
    "## Rendering `plotly` plots in browser"
   ]
  },
  {
   "cell_type": "code",
   "execution_count": null,
   "metadata": {},
   "outputs": [],
   "source": [
    "import plotly.graph_objects as go\n",
    "\n",
    "fig = go.Figure(...)\n",
    "\n",
    "# convert the plotly figure to a panel figure\n",
    "fig = pn.pane.Plotly(fig)\n",
    "render(fig, display_mode='browser')"
   ]
  },
  {
   "cell_type": "markdown",
   "metadata": {},
   "source": [
    "## Rendering `altair` plots in browser"
   ]
  },
  {
   "cell_type": "code",
   "execution_count": null,
   "metadata": {},
   "outputs": [],
   "source": [
    "import altair as alt\n",
    "\n",
    "fig = alt.Chart(...)\n",
    "\n",
    "# similarly, convert the altair figure to a panel figure\n",
    "fig = pn.pane.Vega(fig)\n",
    "render(fig, display_mode='browser')"
   ]
  }
 ],
 "metadata": {
  "kernelspec": {
   "display_name": "Python 3",
   "language": "python",
   "name": "python3"
  },
  "language_info": {
   "codemirror_mode": {
    "name": "ipython",
    "version": 3
   },
   "file_extension": ".py",
   "mimetype": "text/x-python",
   "name": "python",
   "nbconvert_exporter": "python",
   "pygments_lexer": "ipython3",
   "version": "3.11.11"
  }
 },
 "nbformat": 4,
 "nbformat_minor": 2
}
